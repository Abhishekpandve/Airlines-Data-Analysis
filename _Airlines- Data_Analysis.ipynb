{
 "cells": [
  {
   "cell_type": "markdown",
   "metadata": {},
   "source": [
    "\n",
    "\n",
    "# Objective\n",
    "The goal of this data analysis project using sql would be to identify opportunities to increase the occupancy rate on low-performing flights, which can ultimately lead to increased profitability for the airline.\n"
   ]
  },
  {
   "cell_type": "markdown",
   "metadata": {},
   "source": [
    "# Importing Libraries"
   ]
  },
  {
   "cell_type": "code",
   "execution_count": 1,
   "metadata": {},
   "outputs": [],
   "source": [
    "import sqlite3\n",
    "import pandas as pd\n",
    "import matplotlib.pyplot as plt\n",
    "import seaborn as sns\n",
    "import warnings\n",
    "warnings.filterwarnings('ignore')"
   ]
  },
  {
   "cell_type": "markdown",
   "metadata": {},
   "source": [
    "# Database Connection"
   ]
  },
  {
   "cell_type": "code",
   "execution_count": 2,
   "metadata": {},
   "outputs": [],
   "source": [
    "connection = sqlite3.connect('travel.sqlite')\n",
    "cursor = connection.cursor()"
   ]
  },
  {
   "cell_type": "code",
   "execution_count": 12,
   "metadata": {},
   "outputs": [
    {
     "name": "stdout",
     "output_type": "stream",
     "text": [
      "List of Tables present in the Database\n"
     ]
    },
    {
     "data": {
      "text/plain": [
       "['aircrafts_data',\n",
       " 'airports_data',\n",
       " 'boarding_passes',\n",
       " 'bookings',\n",
       " 'flights',\n",
       " 'seats',\n",
       " 'ticket_flights',\n",
       " 'tickets']"
      ]
     },
     "execution_count": 12,
     "metadata": {},
     "output_type": "execute_result"
    }
   ],
   "source": [
    "# extracting table names from the database\n",
    "cursor.execute(\"\"\"SELECT name FROM sqlite_master WHERE type='table';\"\"\")\n",
    "print('List of Tables present in the Database')\n",
    "table_list = [table[0] for table in cursor.fetchall()]\n",
    "table_list"
   ]
  },
  {
   "cell_type": "markdown",
   "metadata": {},
   "source": [
    "# Data Exploration "
   ]
  },
  {
   "cell_type": "code",
   "execution_count": 14,
   "metadata": {},
   "outputs": [
    {
     "data": {
      "text/html": [
       "<div>\n",
       "<style scoped>\n",
       "    .dataframe tbody tr th:only-of-type {\n",
       "        vertical-align: middle;\n",
       "    }\n",
       "\n",
       "    .dataframe tbody tr th {\n",
       "        vertical-align: top;\n",
       "    }\n",
       "\n",
       "    .dataframe thead th {\n",
       "        text-align: right;\n",
       "    }\n",
       "</style>\n",
       "<table border=\"1\" class=\"dataframe\">\n",
       "  <thead>\n",
       "    <tr style=\"text-align: right;\">\n",
       "      <th></th>\n",
       "      <th>airport_code</th>\n",
       "      <th>airport_name</th>\n",
       "      <th>city</th>\n",
       "      <th>coordinates</th>\n",
       "      <th>timezone</th>\n",
       "    </tr>\n",
       "  </thead>\n",
       "  <tbody>\n",
       "    <tr>\n",
       "      <th>0</th>\n",
       "      <td>YKS</td>\n",
       "      <td>{\"en\": \"Yakutsk Airport\", \"ru\": \"Якутск\"}</td>\n",
       "      <td>{\"en\": \"Yakutsk\", \"ru\": \"Якутск\"}</td>\n",
       "      <td>(129.77099609375,62.0932998657226562)</td>\n",
       "      <td>Asia/Yakutsk</td>\n",
       "    </tr>\n",
       "    <tr>\n",
       "      <th>1</th>\n",
       "      <td>MJZ</td>\n",
       "      <td>{\"en\": \"Mirny Airport\", \"ru\": \"Мирный\"}</td>\n",
       "      <td>{\"en\": \"Mirnyj\", \"ru\": \"Мирный\"}</td>\n",
       "      <td>(114.03900146484375,62.534698486328125)</td>\n",
       "      <td>Asia/Yakutsk</td>\n",
       "    </tr>\n",
       "    <tr>\n",
       "      <th>2</th>\n",
       "      <td>KHV</td>\n",
       "      <td>{\"en\": \"Khabarovsk-Novy Airport\", \"ru\": \"Хабар...</td>\n",
       "      <td>{\"en\": \"Khabarovsk\", \"ru\": \"Хабаровск\"}</td>\n",
       "      <td>(135.18800354004,48.5279998779300001)</td>\n",
       "      <td>Asia/Vladivostok</td>\n",
       "    </tr>\n",
       "    <tr>\n",
       "      <th>3</th>\n",
       "      <td>PKC</td>\n",
       "      <td>{\"en\": \"Yelizovo Airport\", \"ru\": \"Елизово\"}</td>\n",
       "      <td>{\"en\": \"Petropavlovsk\", \"ru\": \"Петропавловск-К...</td>\n",
       "      <td>(158.453994750976562,53.1679000854492188)</td>\n",
       "      <td>Asia/Kamchatka</td>\n",
       "    </tr>\n",
       "    <tr>\n",
       "      <th>4</th>\n",
       "      <td>UUS</td>\n",
       "      <td>{\"en\": \"Yuzhno-Sakhalinsk Airport\", \"ru\": \"Хом...</td>\n",
       "      <td>{\"en\": \"Yuzhno-Sakhalinsk\", \"ru\": \"Южно-Сахали...</td>\n",
       "      <td>(142.718002319335938,46.8886985778808594)</td>\n",
       "      <td>Asia/Sakhalin</td>\n",
       "    </tr>\n",
       "  </tbody>\n",
       "</table>\n",
       "</div>"
      ],
      "text/plain": [
       "  airport_code                                       airport_name  \\\n",
       "0          YKS          {\"en\": \"Yakutsk Airport\", \"ru\": \"Якутск\"}   \n",
       "1          MJZ            {\"en\": \"Mirny Airport\", \"ru\": \"Мирный\"}   \n",
       "2          KHV  {\"en\": \"Khabarovsk-Novy Airport\", \"ru\": \"Хабар...   \n",
       "3          PKC        {\"en\": \"Yelizovo Airport\", \"ru\": \"Елизово\"}   \n",
       "4          UUS  {\"en\": \"Yuzhno-Sakhalinsk Airport\", \"ru\": \"Хом...   \n",
       "\n",
       "                                                city  \\\n",
       "0                  {\"en\": \"Yakutsk\", \"ru\": \"Якутск\"}   \n",
       "1                   {\"en\": \"Mirnyj\", \"ru\": \"Мирный\"}   \n",
       "2            {\"en\": \"Khabarovsk\", \"ru\": \"Хабаровск\"}   \n",
       "3  {\"en\": \"Petropavlovsk\", \"ru\": \"Петропавловск-К...   \n",
       "4  {\"en\": \"Yuzhno-Sakhalinsk\", \"ru\": \"Южно-Сахали...   \n",
       "\n",
       "                                 coordinates          timezone  \n",
       "0      (129.77099609375,62.0932998657226562)      Asia/Yakutsk  \n",
       "1    (114.03900146484375,62.534698486328125)      Asia/Yakutsk  \n",
       "2      (135.18800354004,48.5279998779300001)  Asia/Vladivostok  \n",
       "3  (158.453994750976562,53.1679000854492188)    Asia/Kamchatka  \n",
       "4  (142.718002319335938,46.8886985778808594)     Asia/Sakhalin  "
      ]
     },
     "execution_count": 14,
     "metadata": {},
     "output_type": "execute_result"
    }
   ],
   "source": [
    "airports_data = pd.read_sql_query(f\"\"\"SELECT * FROM airports_data\"\"\", connection)\n",
    "airports_data.head()"
   ]
  },
  {
   "cell_type": "code",
   "execution_count": 15,
   "metadata": {},
   "outputs": [
    {
     "data": {
      "text/html": [
       "<div>\n",
       "<style scoped>\n",
       "    .dataframe tbody tr th:only-of-type {\n",
       "        vertical-align: middle;\n",
       "    }\n",
       "\n",
       "    .dataframe tbody tr th {\n",
       "        vertical-align: top;\n",
       "    }\n",
       "\n",
       "    .dataframe thead th {\n",
       "        text-align: right;\n",
       "    }\n",
       "</style>\n",
       "<table border=\"1\" class=\"dataframe\">\n",
       "  <thead>\n",
       "    <tr style=\"text-align: right;\">\n",
       "      <th></th>\n",
       "      <th>ticket_no</th>\n",
       "      <th>flight_id</th>\n",
       "      <th>boarding_no</th>\n",
       "      <th>seat_no</th>\n",
       "    </tr>\n",
       "  </thead>\n",
       "  <tbody>\n",
       "    <tr>\n",
       "      <th>0</th>\n",
       "      <td>0005435212351</td>\n",
       "      <td>30625</td>\n",
       "      <td>1</td>\n",
       "      <td>2D</td>\n",
       "    </tr>\n",
       "    <tr>\n",
       "      <th>1</th>\n",
       "      <td>0005435212386</td>\n",
       "      <td>30625</td>\n",
       "      <td>2</td>\n",
       "      <td>3G</td>\n",
       "    </tr>\n",
       "    <tr>\n",
       "      <th>2</th>\n",
       "      <td>0005435212381</td>\n",
       "      <td>30625</td>\n",
       "      <td>3</td>\n",
       "      <td>4H</td>\n",
       "    </tr>\n",
       "    <tr>\n",
       "      <th>3</th>\n",
       "      <td>0005432211370</td>\n",
       "      <td>30625</td>\n",
       "      <td>4</td>\n",
       "      <td>5D</td>\n",
       "    </tr>\n",
       "    <tr>\n",
       "      <th>4</th>\n",
       "      <td>0005435212357</td>\n",
       "      <td>30625</td>\n",
       "      <td>5</td>\n",
       "      <td>11A</td>\n",
       "    </tr>\n",
       "  </tbody>\n",
       "</table>\n",
       "</div>"
      ],
      "text/plain": [
       "       ticket_no  flight_id  boarding_no seat_no\n",
       "0  0005435212351      30625            1      2D\n",
       "1  0005435212386      30625            2      3G\n",
       "2  0005435212381      30625            3      4H\n",
       "3  0005432211370      30625            4      5D\n",
       "4  0005435212357      30625            5     11A"
      ]
     },
     "execution_count": 15,
     "metadata": {},
     "output_type": "execute_result"
    }
   ],
   "source": [
    "boarding_passes = pd.read_sql_query(f\"\"\"SELECT * FROM boarding_passes\"\"\", connection)\n",
    "boarding_passes.head()"
   ]
  },
  {
   "cell_type": "code",
   "execution_count": 16,
   "metadata": {},
   "outputs": [
    {
     "data": {
      "text/html": [
       "<div>\n",
       "<style scoped>\n",
       "    .dataframe tbody tr th:only-of-type {\n",
       "        vertical-align: middle;\n",
       "    }\n",
       "\n",
       "    .dataframe tbody tr th {\n",
       "        vertical-align: top;\n",
       "    }\n",
       "\n",
       "    .dataframe thead th {\n",
       "        text-align: right;\n",
       "    }\n",
       "</style>\n",
       "<table border=\"1\" class=\"dataframe\">\n",
       "  <thead>\n",
       "    <tr style=\"text-align: right;\">\n",
       "      <th></th>\n",
       "      <th>book_ref</th>\n",
       "      <th>book_date</th>\n",
       "      <th>total_amount</th>\n",
       "    </tr>\n",
       "  </thead>\n",
       "  <tbody>\n",
       "    <tr>\n",
       "      <th>0</th>\n",
       "      <td>00000F</td>\n",
       "      <td>2017-07-05 03:12:00+03</td>\n",
       "      <td>265700</td>\n",
       "    </tr>\n",
       "    <tr>\n",
       "      <th>1</th>\n",
       "      <td>000012</td>\n",
       "      <td>2017-07-14 09:02:00+03</td>\n",
       "      <td>37900</td>\n",
       "    </tr>\n",
       "    <tr>\n",
       "      <th>2</th>\n",
       "      <td>000068</td>\n",
       "      <td>2017-08-15 14:27:00+03</td>\n",
       "      <td>18100</td>\n",
       "    </tr>\n",
       "    <tr>\n",
       "      <th>3</th>\n",
       "      <td>000181</td>\n",
       "      <td>2017-08-10 13:28:00+03</td>\n",
       "      <td>131800</td>\n",
       "    </tr>\n",
       "    <tr>\n",
       "      <th>4</th>\n",
       "      <td>0002D8</td>\n",
       "      <td>2017-08-07 21:40:00+03</td>\n",
       "      <td>23600</td>\n",
       "    </tr>\n",
       "  </tbody>\n",
       "</table>\n",
       "</div>"
      ],
      "text/plain": [
       "  book_ref               book_date  total_amount\n",
       "0   00000F  2017-07-05 03:12:00+03        265700\n",
       "1   000012  2017-07-14 09:02:00+03         37900\n",
       "2   000068  2017-08-15 14:27:00+03         18100\n",
       "3   000181  2017-08-10 13:28:00+03        131800\n",
       "4   0002D8  2017-08-07 21:40:00+03         23600"
      ]
     },
     "execution_count": 16,
     "metadata": {},
     "output_type": "execute_result"
    }
   ],
   "source": [
    "bookings = pd.read_sql_query(f\"\"\"SELECT * FROM bookings \"\"\", connection)\n",
    "bookings.head()"
   ]
  },
  {
   "cell_type": "code",
   "execution_count": 3,
   "metadata": {
    "scrolled": true
   },
   "outputs": [
    {
     "data": {
      "text/html": [
       "<div>\n",
       "<style scoped>\n",
       "    .dataframe tbody tr th:only-of-type {\n",
       "        vertical-align: middle;\n",
       "    }\n",
       "\n",
       "    .dataframe tbody tr th {\n",
       "        vertical-align: top;\n",
       "    }\n",
       "\n",
       "    .dataframe thead th {\n",
       "        text-align: right;\n",
       "    }\n",
       "</style>\n",
       "<table border=\"1\" class=\"dataframe\">\n",
       "  <thead>\n",
       "    <tr style=\"text-align: right;\">\n",
       "      <th></th>\n",
       "      <th>aircraft_code</th>\n",
       "      <th>model</th>\n",
       "      <th>range</th>\n",
       "    </tr>\n",
       "  </thead>\n",
       "  <tbody>\n",
       "    <tr>\n",
       "      <th>0</th>\n",
       "      <td>773</td>\n",
       "      <td>{\"en\": \"Boeing 777-300\", \"ru\": \"Боинг 777-300\"}</td>\n",
       "      <td>11100</td>\n",
       "    </tr>\n",
       "    <tr>\n",
       "      <th>1</th>\n",
       "      <td>763</td>\n",
       "      <td>{\"en\": \"Boeing 767-300\", \"ru\": \"Боинг 767-300\"}</td>\n",
       "      <td>7900</td>\n",
       "    </tr>\n",
       "    <tr>\n",
       "      <th>2</th>\n",
       "      <td>SU9</td>\n",
       "      <td>{\"en\": \"Sukhoi Superjet-100\", \"ru\": \"Сухой Суп...</td>\n",
       "      <td>3000</td>\n",
       "    </tr>\n",
       "    <tr>\n",
       "      <th>3</th>\n",
       "      <td>320</td>\n",
       "      <td>{\"en\": \"Airbus A320-200\", \"ru\": \"Аэробус A320-...</td>\n",
       "      <td>5700</td>\n",
       "    </tr>\n",
       "    <tr>\n",
       "      <th>4</th>\n",
       "      <td>321</td>\n",
       "      <td>{\"en\": \"Airbus A321-200\", \"ru\": \"Аэробус A321-...</td>\n",
       "      <td>5600</td>\n",
       "    </tr>\n",
       "  </tbody>\n",
       "</table>\n",
       "</div>"
      ],
      "text/plain": [
       "  aircraft_code                                              model  range\n",
       "0           773    {\"en\": \"Boeing 777-300\", \"ru\": \"Боинг 777-300\"}  11100\n",
       "1           763    {\"en\": \"Boeing 767-300\", \"ru\": \"Боинг 767-300\"}   7900\n",
       "2           SU9  {\"en\": \"Sukhoi Superjet-100\", \"ru\": \"Сухой Суп...   3000\n",
       "3           320  {\"en\": \"Airbus A320-200\", \"ru\": \"Аэробус A320-...   5700\n",
       "4           321  {\"en\": \"Airbus A321-200\", \"ru\": \"Аэробус A321-...   5600"
      ]
     },
     "execution_count": 3,
     "metadata": {},
     "output_type": "execute_result"
    }
   ],
   "source": [
    "aircrafts_data = pd.read_sql_query(f\"\"\"SELECT * FROM aircrafts_data\"\"\", connection)\n",
    "aircrafts_data.head()"
   ]
  },
  {
   "cell_type": "code",
   "execution_count": 8,
   "metadata": {},
   "outputs": [
    {
     "data": {
      "text/html": [
       "<div>\n",
       "<style scoped>\n",
       "    .dataframe tbody tr th:only-of-type {\n",
       "        vertical-align: middle;\n",
       "    }\n",
       "\n",
       "    .dataframe tbody tr th {\n",
       "        vertical-align: top;\n",
       "    }\n",
       "\n",
       "    .dataframe thead th {\n",
       "        text-align: right;\n",
       "    }\n",
       "</style>\n",
       "<table border=\"1\" class=\"dataframe\">\n",
       "  <thead>\n",
       "    <tr style=\"text-align: right;\">\n",
       "      <th></th>\n",
       "      <th>flight_id</th>\n",
       "      <th>flight_no</th>\n",
       "      <th>scheduled_departure</th>\n",
       "      <th>scheduled_arrival</th>\n",
       "      <th>departure_airport</th>\n",
       "      <th>arrival_airport</th>\n",
       "      <th>status</th>\n",
       "      <th>aircraft_code</th>\n",
       "      <th>actual_departure</th>\n",
       "      <th>actual_arrival</th>\n",
       "    </tr>\n",
       "  </thead>\n",
       "  <tbody>\n",
       "    <tr>\n",
       "      <th>0</th>\n",
       "      <td>1185</td>\n",
       "      <td>PG0134</td>\n",
       "      <td>2017-09-10 09:50:00+03</td>\n",
       "      <td>2017-09-10 14:55:00+03</td>\n",
       "      <td>DME</td>\n",
       "      <td>BTK</td>\n",
       "      <td>Scheduled</td>\n",
       "      <td>319</td>\n",
       "      <td>\\N</td>\n",
       "      <td>\\N</td>\n",
       "    </tr>\n",
       "    <tr>\n",
       "      <th>1</th>\n",
       "      <td>3979</td>\n",
       "      <td>PG0052</td>\n",
       "      <td>2017-08-25 14:50:00+03</td>\n",
       "      <td>2017-08-25 17:35:00+03</td>\n",
       "      <td>VKO</td>\n",
       "      <td>HMA</td>\n",
       "      <td>Scheduled</td>\n",
       "      <td>CR2</td>\n",
       "      <td>\\N</td>\n",
       "      <td>\\N</td>\n",
       "    </tr>\n",
       "    <tr>\n",
       "      <th>2</th>\n",
       "      <td>4739</td>\n",
       "      <td>PG0561</td>\n",
       "      <td>2017-09-05 12:30:00+03</td>\n",
       "      <td>2017-09-05 14:15:00+03</td>\n",
       "      <td>VKO</td>\n",
       "      <td>AER</td>\n",
       "      <td>Scheduled</td>\n",
       "      <td>763</td>\n",
       "      <td>\\N</td>\n",
       "      <td>\\N</td>\n",
       "    </tr>\n",
       "    <tr>\n",
       "      <th>3</th>\n",
       "      <td>5502</td>\n",
       "      <td>PG0529</td>\n",
       "      <td>2017-09-12 09:50:00+03</td>\n",
       "      <td>2017-09-12 11:20:00+03</td>\n",
       "      <td>SVO</td>\n",
       "      <td>UFA</td>\n",
       "      <td>Scheduled</td>\n",
       "      <td>763</td>\n",
       "      <td>\\N</td>\n",
       "      <td>\\N</td>\n",
       "    </tr>\n",
       "    <tr>\n",
       "      <th>4</th>\n",
       "      <td>6938</td>\n",
       "      <td>PG0461</td>\n",
       "      <td>2017-09-04 12:25:00+03</td>\n",
       "      <td>2017-09-04 13:20:00+03</td>\n",
       "      <td>SVO</td>\n",
       "      <td>ULV</td>\n",
       "      <td>Scheduled</td>\n",
       "      <td>SU9</td>\n",
       "      <td>\\N</td>\n",
       "      <td>\\N</td>\n",
       "    </tr>\n",
       "  </tbody>\n",
       "</table>\n",
       "</div>"
      ],
      "text/plain": [
       "   flight_id flight_no     scheduled_departure       scheduled_arrival  \\\n",
       "0       1185    PG0134  2017-09-10 09:50:00+03  2017-09-10 14:55:00+03   \n",
       "1       3979    PG0052  2017-08-25 14:50:00+03  2017-08-25 17:35:00+03   \n",
       "2       4739    PG0561  2017-09-05 12:30:00+03  2017-09-05 14:15:00+03   \n",
       "3       5502    PG0529  2017-09-12 09:50:00+03  2017-09-12 11:20:00+03   \n",
       "4       6938    PG0461  2017-09-04 12:25:00+03  2017-09-04 13:20:00+03   \n",
       "\n",
       "  departure_airport arrival_airport     status aircraft_code actual_departure  \\\n",
       "0               DME             BTK  Scheduled           319               \\N   \n",
       "1               VKO             HMA  Scheduled           CR2               \\N   \n",
       "2               VKO             AER  Scheduled           763               \\N   \n",
       "3               SVO             UFA  Scheduled           763               \\N   \n",
       "4               SVO             ULV  Scheduled           SU9               \\N   \n",
       "\n",
       "  actual_arrival  \n",
       "0             \\N  \n",
       "1             \\N  \n",
       "2             \\N  \n",
       "3             \\N  \n",
       "4             \\N  "
      ]
     },
     "execution_count": 8,
     "metadata": {},
     "output_type": "execute_result"
    }
   ],
   "source": [
    "flights = pd.read_sql_query(f\"\"\"SELECT * FROM flights  \"\"\", connection)\n",
    "flights.head()"
   ]
  },
  {
   "cell_type": "code",
   "execution_count": 9,
   "metadata": {},
   "outputs": [
    {
     "data": {
      "text/html": [
       "<div>\n",
       "<style scoped>\n",
       "    .dataframe tbody tr th:only-of-type {\n",
       "        vertical-align: middle;\n",
       "    }\n",
       "\n",
       "    .dataframe tbody tr th {\n",
       "        vertical-align: top;\n",
       "    }\n",
       "\n",
       "    .dataframe thead th {\n",
       "        text-align: right;\n",
       "    }\n",
       "</style>\n",
       "<table border=\"1\" class=\"dataframe\">\n",
       "  <thead>\n",
       "    <tr style=\"text-align: right;\">\n",
       "      <th></th>\n",
       "      <th>aircraft_code</th>\n",
       "      <th>seat_no</th>\n",
       "      <th>fare_conditions</th>\n",
       "    </tr>\n",
       "  </thead>\n",
       "  <tbody>\n",
       "    <tr>\n",
       "      <th>0</th>\n",
       "      <td>319</td>\n",
       "      <td>2A</td>\n",
       "      <td>Business</td>\n",
       "    </tr>\n",
       "    <tr>\n",
       "      <th>1</th>\n",
       "      <td>319</td>\n",
       "      <td>2C</td>\n",
       "      <td>Business</td>\n",
       "    </tr>\n",
       "    <tr>\n",
       "      <th>2</th>\n",
       "      <td>319</td>\n",
       "      <td>2D</td>\n",
       "      <td>Business</td>\n",
       "    </tr>\n",
       "    <tr>\n",
       "      <th>3</th>\n",
       "      <td>319</td>\n",
       "      <td>2F</td>\n",
       "      <td>Business</td>\n",
       "    </tr>\n",
       "    <tr>\n",
       "      <th>4</th>\n",
       "      <td>319</td>\n",
       "      <td>3A</td>\n",
       "      <td>Business</td>\n",
       "    </tr>\n",
       "  </tbody>\n",
       "</table>\n",
       "</div>"
      ],
      "text/plain": [
       "  aircraft_code seat_no fare_conditions\n",
       "0           319      2A        Business\n",
       "1           319      2C        Business\n",
       "2           319      2D        Business\n",
       "3           319      2F        Business\n",
       "4           319      3A        Business"
      ]
     },
     "execution_count": 9,
     "metadata": {},
     "output_type": "execute_result"
    }
   ],
   "source": [
    "seats = pd.read_sql_query(f\"\"\"SELECT * FROM seats  \"\"\", connection)\n",
    "seats.head()"
   ]
  },
  {
   "cell_type": "code",
   "execution_count": 28,
   "metadata": {},
   "outputs": [
    {
     "data": {
      "text/html": [
       "<div>\n",
       "<style scoped>\n",
       "    .dataframe tbody tr th:only-of-type {\n",
       "        vertical-align: middle;\n",
       "    }\n",
       "\n",
       "    .dataframe tbody tr th {\n",
       "        vertical-align: top;\n",
       "    }\n",
       "\n",
       "    .dataframe thead th {\n",
       "        text-align: right;\n",
       "    }\n",
       "</style>\n",
       "<table border=\"1\" class=\"dataframe\">\n",
       "  <thead>\n",
       "    <tr style=\"text-align: right;\">\n",
       "      <th></th>\n",
       "      <th>ticket_no</th>\n",
       "      <th>flight_id</th>\n",
       "      <th>fare_conditions</th>\n",
       "      <th>amount</th>\n",
       "    </tr>\n",
       "  </thead>\n",
       "  <tbody>\n",
       "    <tr>\n",
       "      <th>0</th>\n",
       "      <td>0005432159776</td>\n",
       "      <td>30625</td>\n",
       "      <td>Business</td>\n",
       "      <td>42100</td>\n",
       "    </tr>\n",
       "    <tr>\n",
       "      <th>1</th>\n",
       "      <td>0005435212351</td>\n",
       "      <td>30625</td>\n",
       "      <td>Business</td>\n",
       "      <td>42100</td>\n",
       "    </tr>\n",
       "    <tr>\n",
       "      <th>2</th>\n",
       "      <td>0005435212386</td>\n",
       "      <td>30625</td>\n",
       "      <td>Business</td>\n",
       "      <td>42100</td>\n",
       "    </tr>\n",
       "    <tr>\n",
       "      <th>3</th>\n",
       "      <td>0005435212381</td>\n",
       "      <td>30625</td>\n",
       "      <td>Business</td>\n",
       "      <td>42100</td>\n",
       "    </tr>\n",
       "    <tr>\n",
       "      <th>4</th>\n",
       "      <td>0005432211370</td>\n",
       "      <td>30625</td>\n",
       "      <td>Business</td>\n",
       "      <td>42100</td>\n",
       "    </tr>\n",
       "  </tbody>\n",
       "</table>\n",
       "</div>"
      ],
      "text/plain": [
       "       ticket_no  flight_id fare_conditions  amount\n",
       "0  0005432159776      30625        Business   42100\n",
       "1  0005435212351      30625        Business   42100\n",
       "2  0005435212386      30625        Business   42100\n",
       "3  0005435212381      30625        Business   42100\n",
       "4  0005432211370      30625        Business   42100"
      ]
     },
     "execution_count": 28,
     "metadata": {},
     "output_type": "execute_result"
    }
   ],
   "source": [
    "ticket_flights = pd.read_sql_query(f\"\"\"SELECT * FROM ticket_flights  \"\"\", connection)\n",
    "ticket_flights.head()"
   ]
  },
  {
   "cell_type": "code",
   "execution_count": 11,
   "metadata": {},
   "outputs": [
    {
     "data": {
      "text/html": [
       "<div>\n",
       "<style scoped>\n",
       "    .dataframe tbody tr th:only-of-type {\n",
       "        vertical-align: middle;\n",
       "    }\n",
       "\n",
       "    .dataframe tbody tr th {\n",
       "        vertical-align: top;\n",
       "    }\n",
       "\n",
       "    .dataframe thead th {\n",
       "        text-align: right;\n",
       "    }\n",
       "</style>\n",
       "<table border=\"1\" class=\"dataframe\">\n",
       "  <thead>\n",
       "    <tr style=\"text-align: right;\">\n",
       "      <th></th>\n",
       "      <th>ticket_no</th>\n",
       "      <th>book_ref</th>\n",
       "      <th>passenger_id</th>\n",
       "    </tr>\n",
       "  </thead>\n",
       "  <tbody>\n",
       "    <tr>\n",
       "      <th>0</th>\n",
       "      <td>0005432000987</td>\n",
       "      <td>06B046</td>\n",
       "      <td>8149 604011</td>\n",
       "    </tr>\n",
       "    <tr>\n",
       "      <th>1</th>\n",
       "      <td>0005432000988</td>\n",
       "      <td>06B046</td>\n",
       "      <td>8499 420203</td>\n",
       "    </tr>\n",
       "    <tr>\n",
       "      <th>2</th>\n",
       "      <td>0005432000989</td>\n",
       "      <td>E170C3</td>\n",
       "      <td>1011 752484</td>\n",
       "    </tr>\n",
       "    <tr>\n",
       "      <th>3</th>\n",
       "      <td>0005432000990</td>\n",
       "      <td>E170C3</td>\n",
       "      <td>4849 400049</td>\n",
       "    </tr>\n",
       "    <tr>\n",
       "      <th>4</th>\n",
       "      <td>0005432000991</td>\n",
       "      <td>F313DD</td>\n",
       "      <td>6615 976589</td>\n",
       "    </tr>\n",
       "  </tbody>\n",
       "</table>\n",
       "</div>"
      ],
      "text/plain": [
       "       ticket_no book_ref passenger_id\n",
       "0  0005432000987   06B046  8149 604011\n",
       "1  0005432000988   06B046  8499 420203\n",
       "2  0005432000989   E170C3  1011 752484\n",
       "3  0005432000990   E170C3  4849 400049\n",
       "4  0005432000991   F313DD  6615 976589"
      ]
     },
     "execution_count": 11,
     "metadata": {},
     "output_type": "execute_result"
    }
   ],
   "source": [
    "tickets = pd.read_sql_query(f\"\"\"SELECT * FROM tickets  \"\"\", connection)\n",
    "tickets.head()"
   ]
  },
  {
   "cell_type": "code",
   "execution_count": 7,
   "metadata": {},
   "outputs": [
    {
     "name": "stdout",
     "output_type": "stream",
     "text": [
      "\n",
      "table: aircrafts_data\n",
      "('aircraft_code', 'character(3)')\n",
      "('model', 'jsonb')\n",
      "('range', 'integer')\n",
      "\n",
      "table: airports_data\n",
      "('airport_code', 'character(3)')\n",
      "('airport_name', 'jsonb')\n",
      "('city', 'jsonb')\n",
      "('coordinates', 'point')\n",
      "('timezone', 'text')\n",
      "\n",
      "table: boarding_passes\n",
      "('ticket_no', 'character(13)')\n",
      "('flight_id', 'integer')\n",
      "('boarding_no', 'integer')\n",
      "('seat_no', 'character varying(4)')\n",
      "\n",
      "table: bookings\n",
      "('book_ref', 'character(6)')\n",
      "('book_date', 'timestamp with time zone')\n",
      "('total_amount', 'numeric(10,2)')\n",
      "\n",
      "table: flights\n",
      "('flight_id', 'integer')\n",
      "('flight_no', 'character(6)')\n",
      "('scheduled_departure', 'timestamp with time zone')\n",
      "('scheduled_arrival', 'timestamp with time zone')\n",
      "('departure_airport', 'character(3)')\n",
      "('arrival_airport', 'character(3)')\n",
      "('status', 'character varying(20)')\n",
      "('aircraft_code', 'character(3)')\n",
      "('actual_departure', 'timestamp with time zone')\n",
      "('actual_arrival', 'timestamp with time zone')\n",
      "\n",
      "table: seats\n",
      "('aircraft_code', 'character(3)')\n",
      "('seat_no', 'character varying(4)')\n",
      "('fare_conditions', 'character varying(10)')\n",
      "\n",
      "table: ticket_flights\n",
      "('ticket_no', 'character(13)')\n",
      "('flight_id', 'integer')\n",
      "('fare_conditions', 'character varying(10)')\n",
      "('amount', 'numeric(10,2)')\n",
      "\n",
      "table: tickets\n",
      "('ticket_no', 'character(13)')\n",
      "('book_ref', 'character(6)')\n",
      "('passenger_id', 'character varying(20)')\n"
     ]
    }
   ],
   "source": [
    "for table in table_list:\n",
    "    print(\"\\ntable: \" + table)\n",
    "    columns_info = connection.execute(\"PRAGMA table_info({})\".format(table))\n",
    "    for column in columns_info.fetchall():\n",
    "        print(column[1:3])"
   ]
  },
  {
   "cell_type": "markdown",
   "metadata": {},
   "source": [
    "# Data Cleaning"
   ]
  },
  {
   "cell_type": "code",
   "execution_count": 8,
   "metadata": {},
   "outputs": [
    {
     "name": "stdout",
     "output_type": "stream",
     "text": [
      "\n",
      "Missing Values in table aircrafts_data\n",
      "aircraft_code    0\n",
      "model            0\n",
      "range            0\n",
      "dtype: int64\n",
      "\n",
      "Missing Values in table airports_data\n",
      "airport_code    0\n",
      "airport_name    0\n",
      "city            0\n",
      "coordinates     0\n",
      "timezone        0\n",
      "dtype: int64\n",
      "\n",
      "Missing Values in table boarding_passes\n",
      "ticket_no      0\n",
      "flight_id      0\n",
      "boarding_no    0\n",
      "seat_no        0\n",
      "dtype: int64\n",
      "\n",
      "Missing Values in table bookings\n",
      "book_ref        0\n",
      "book_date       0\n",
      "total_amount    0\n",
      "dtype: int64\n",
      "\n",
      "Missing Values in table flights\n",
      "flight_id              0\n",
      "flight_no              0\n",
      "scheduled_departure    0\n",
      "scheduled_arrival      0\n",
      "departure_airport      0\n",
      "arrival_airport        0\n",
      "status                 0\n",
      "aircraft_code          0\n",
      "actual_departure       0\n",
      "actual_arrival         0\n",
      "dtype: int64\n",
      "\n",
      "Missing Values in table seats\n",
      "aircraft_code      0\n",
      "seat_no            0\n",
      "fare_conditions    0\n",
      "dtype: int64\n",
      "\n",
      "Missing Values in table ticket_flights\n",
      "ticket_no          0\n",
      "flight_id          0\n",
      "fare_conditions    0\n",
      "amount             0\n",
      "dtype: int64\n",
      "\n",
      "Missing Values in table tickets\n",
      "ticket_no       0\n",
      "book_ref        0\n",
      "passenger_id    0\n",
      "dtype: int64\n"
     ]
    }
   ],
   "source": [
    "# checking for missing values in each column for every table\n",
    "for table in table_list:\n",
    "    print(f'\\nMissing Values in table {table}')\n",
    "    df_table = pd.read_sql_query(f\"\"\"SELECT * FROM {table}\"\"\", connection)\n",
    "    print(df_table.isnull().sum())\n",
    "    "
   ]
  },
  {
   "cell_type": "markdown",
   "metadata": {},
   "source": [
    "# Data Visualization"
   ]
  },
  {
   "cell_type": "code",
   "execution_count": 29,
   "metadata": {},
   "outputs": [
    {
     "data": {
      "image/png": "[encoded data removed]",
      "text/plain": [
       "<Figure size 864x576 with 1 Axes>"
      ]
     },
     "metadata": {},
     "output_type": "display_data"
    }
   ],
   "source": [
    "sns.set_style('whitegrid')\n",
    "fig, axes = plt.subplots(figsize=(12, 8))\n",
    "ax = sns.barplot(x='model', y='range', data=aircrafts_data, palette='Paired')\n",
    "\n",
    "for p in ax.patches:\n",
    "    ax.annotate(f'{p.get_height():.1f}', (p.get_x() + p.get_width() / 2., p.get_height()),\n",
    "                ha='center', va='center', xytext=(0, 10), textcoords='offset points')\n",
    "\n",
    "plt.title('Airplane Models with Their Ranges')\n",
    "plt.xticks(rotation=45)\n",
    "plt.show()"
   ]
  },
  {
   "cell_type": "code",
   "execution_count": 23,
   "metadata": {},
   "outputs": [],
   "source": [
    "df = pd.read_sql_query(\"\"\"SELECT aircraft_code, COUNT(*) as num_seats FROM seats\n",
    "                        GROUP BY aircraft_code HAVING num_seats >100\"\"\", connection)\n",
    "\n",
    "df.to_csv('aircraft_seats.csv')\n"
   ]
  },
  {
   "cell_type": "code",
   "execution_count": 25,
   "metadata": {},
   "outputs": [
    {
     "data": {
      "image/png": "[encoded data removed]",
      "text/plain": [
       "<Figure size 864x576 with 1 Axes>"
      ]
     },
     "metadata": {},
     "output_type": "display_data"
    }
   ],
   "source": [
    "sns.set_style('whitegrid')\n",
    "fig, axes = plt.subplots(figsize=(12, 8))\n",
    "ax = sns.barplot(x='aircraft_code', y='num_seats', data=df, palette='flare')\n",
    "\n",
    "# Annotate bars with their values\n",
    "for p in ax.patches:\n",
    "    ax.annotate(f'{p.get_height():.2f}', (p.get_x() + p.get_width() / 2., p.get_height()),\n",
    "                ha='center', va='center', xytext=(0, 10), textcoords='offset points')\n",
    "\n",
    "plt.title('Aircraft Codes vs Number of Seats')\n",
    "plt.xticks(rotation=45)\n",
    "plt.show()"
   ]
  },
  {
   "cell_type": "code",
   "execution_count": 20,
   "metadata": {
    "scrolled": true
   },
   "outputs": [
    {
     "data": {
      "text/html": [
       "<div>\n",
       "<style scoped>\n",
       "    .dataframe tbody tr th:only-of-type {\n",
       "        vertical-align: middle;\n",
       "    }\n",
       "\n",
       "    .dataframe tbody tr th {\n",
       "        vertical-align: top;\n",
       "    }\n",
       "\n",
       "    .dataframe thead th {\n",
       "        text-align: right;\n",
       "    }\n",
       "</style>\n",
       "<table border=\"1\" class=\"dataframe\">\n",
       "  <thead>\n",
       "    <tr style=\"text-align: right;\">\n",
       "      <th></th>\n",
       "      <th>aircraft_code</th>\n",
       "      <th>model</th>\n",
       "    </tr>\n",
       "  </thead>\n",
       "  <tbody>\n",
       "    <tr>\n",
       "      <th>0</th>\n",
       "      <td>773</td>\n",
       "      <td>{\"en\": \"Boeing 777-300\", \"ru\": \"Боинг 777-300\"}</td>\n",
       "    </tr>\n",
       "    <tr>\n",
       "      <th>1</th>\n",
       "      <td>763</td>\n",
       "      <td>{\"en\": \"Boeing 767-300\", \"ru\": \"Боинг 767-300\"}</td>\n",
       "    </tr>\n",
       "    <tr>\n",
       "      <th>2</th>\n",
       "      <td>320</td>\n",
       "      <td>{\"en\": \"Airbus A320-200\", \"ru\": \"Аэробус A320-...</td>\n",
       "    </tr>\n",
       "    <tr>\n",
       "      <th>3</th>\n",
       "      <td>321</td>\n",
       "      <td>{\"en\": \"Airbus A321-200\", \"ru\": \"Аэробус A321-...</td>\n",
       "    </tr>\n",
       "    <tr>\n",
       "      <th>4</th>\n",
       "      <td>319</td>\n",
       "      <td>{\"en\": \"Airbus A319-100\", \"ru\": \"Аэробус A319-...</td>\n",
       "    </tr>\n",
       "    <tr>\n",
       "      <th>5</th>\n",
       "      <td>733</td>\n",
       "      <td>{\"en\": \"Boeing 737-300\", \"ru\": \"Боинг 737-300\"}</td>\n",
       "    </tr>\n",
       "  </tbody>\n",
       "</table>\n",
       "</div>"
      ],
      "text/plain": [
       "  aircraft_code                                              model\n",
       "0           773    {\"en\": \"Boeing 777-300\", \"ru\": \"Боинг 777-300\"}\n",
       "1           763    {\"en\": \"Boeing 767-300\", \"ru\": \"Боинг 767-300\"}\n",
       "2           320  {\"en\": \"Airbus A320-200\", \"ru\": \"Аэробус A320-...\n",
       "3           321  {\"en\": \"Airbus A321-200\", \"ru\": \"Аэробус A321-...\n",
       "4           319  {\"en\": \"Airbus A319-100\", \"ru\": \"Аэробус A319-...\n",
       "5           733    {\"en\": \"Boeing 737-300\", \"ru\": \"Боинг 737-300\"}"
      ]
     },
     "execution_count": 20,
     "metadata": {},
     "output_type": "execute_result"
    }
   ],
   "source": [
    "crafts = pd.read_sql_query(\"\"\"SELECT aircraft_code, model\n",
    "                        FROM aircrafts_data\n",
    "                        where aircraft_code IN (319, 320, 321, 733, 763, 773);\"\"\", connection)\n",
    "crafts\n",
    "     "
   ]
  },
  {
   "cell_type": "markdown",
   "metadata": {},
   "source": [
    "**As expected, \"Boeing 777-300\" has the maximum number of seats, 402!!**"
   ]
  },
  {
   "cell_type": "markdown",
   "metadata": {},
   "source": [
    "# Basic Analysis "
   ]
  },
  {
   "cell_type": "markdown",
   "metadata": {},
   "source": [
    "**How many planes have more than 100 seats?**"
   ]
  },
  {
   "cell_type": "code",
   "execution_count": 14,
   "metadata": {},
   "outputs": [
    {
     "data": {
      "text/html": [
       "<div>\n",
       "<style scoped>\n",
       "    .dataframe tbody tr th:only-of-type {\n",
       "        vertical-align: middle;\n",
       "    }\n",
       "\n",
       "    .dataframe tbody tr th {\n",
       "        vertical-align: top;\n",
       "    }\n",
       "\n",
       "    .dataframe thead th {\n",
       "        text-align: right;\n",
       "    }\n",
       "</style>\n",
       "<table border=\"1\" class=\"dataframe\">\n",
       "  <thead>\n",
       "    <tr style=\"text-align: right;\">\n",
       "      <th></th>\n",
       "      <th>aircraft_code</th>\n",
       "      <th>num_seats</th>\n",
       "    </tr>\n",
       "  </thead>\n",
       "  <tbody>\n",
       "    <tr>\n",
       "      <th>0</th>\n",
       "      <td>773</td>\n",
       "      <td>402</td>\n",
       "    </tr>\n",
       "    <tr>\n",
       "      <th>1</th>\n",
       "      <td>763</td>\n",
       "      <td>222</td>\n",
       "    </tr>\n",
       "    <tr>\n",
       "      <th>2</th>\n",
       "      <td>321</td>\n",
       "      <td>170</td>\n",
       "    </tr>\n",
       "    <tr>\n",
       "      <th>3</th>\n",
       "      <td>320</td>\n",
       "      <td>140</td>\n",
       "    </tr>\n",
       "    <tr>\n",
       "      <th>4</th>\n",
       "      <td>733</td>\n",
       "      <td>130</td>\n",
       "    </tr>\n",
       "    <tr>\n",
       "      <th>5</th>\n",
       "      <td>319</td>\n",
       "      <td>116</td>\n",
       "    </tr>\n",
       "  </tbody>\n",
       "</table>\n",
       "</div>"
      ],
      "text/plain": [
       "  aircraft_code  num_seats\n",
       "0           773        402\n",
       "1           763        222\n",
       "2           321        170\n",
       "3           320        140\n",
       "4           733        130\n",
       "5           319        116"
      ]
     },
     "execution_count": 14,
     "metadata": {},
     "output_type": "execute_result"
    }
   ],
   "source": [
    "pd.read_sql_query(f\"\"\"SELECT aircraft_code, COUNT(*) as num_seats FROM seats \n",
    "                        GROUP BY aircraft_code \n",
    "                        HAVING num_seats > 100 \n",
    "                        ORDER BY num_seats DESC\"\"\", connection)"
   ]
  },
  {
   "cell_type": "markdown",
   "metadata": {},
   "source": [
    "**How the number of tickets booked and total amount earned changed with the time.**"
   ]
  },
  {
   "cell_type": "code",
   "execution_count": 15,
   "metadata": {},
   "outputs": [
    {
     "data": {
      "image/png": "[encoded data removed]",
      "text/plain": [
       "<Figure size 1800x600 with 1 Axes>"
      ]
     },
     "metadata": {},
     "output_type": "display_data"
    }
   ],
   "source": [
    "tickets = pd.read_sql_query(f\"\"\"SELECT *\n",
    "                                    FROM tickets\n",
    "                                    INNER JOIN bookings \n",
    "                                    ON tickets.book_ref=bookings.book_ref;\"\"\", connection)\n",
    "tickets['book_date'] = pd.to_datetime(tickets['book_date'])\n",
    "tickets['date'] = tickets['book_date'].dt.date\n",
    "x =  tickets.groupby('date')[['date']].count()\n",
    "plt.figure(figsize = (18,6))\n",
    "plt.plot(x.index,x['date'], marker = '^')\n",
    "plt.xlabel('Date', fontsize = 20)\n",
    "plt.ylabel('Number of Tickets', fontsize = 20)\n",
    "plt.grid('b')\n",
    "plt.show()"
   ]
  },
  {
   "cell_type": "code",
   "execution_count": 16,
   "metadata": {},
   "outputs": [
    {
     "data": {
      "image/png": "[encoded data removed]",
      "text/plain": [
       "<Figure size 1800x600 with 1 Axes>"
      ]
     },
     "metadata": {},
     "output_type": "display_data"
    }
   ],
   "source": [
    "bookings = pd.read_sql_query(f\"\"\"SELECT * FROM bookings\"\"\", connection)\n",
    "bookings['book_date'] = pd.to_datetime(bookings['book_date'])\n",
    "bookings['date'] = bookings['book_date'].dt.date\n",
    "y =  bookings.groupby('date')[['total_amount']].sum()\n",
    "plt.figure(figsize = (18,6))\n",
    "plt.plot(y.index,y['total_amount'], marker = 'o')\n",
    "plt.xlabel('Date', fontsize = 20)\n",
    "plt.ylabel('Total Amount', fontsize = 20)\n",
    "plt.grid('b')\n",
    "plt.show()"
   ]
  },
  {
   "cell_type": "markdown",
   "metadata": {},
   "source": [
    "**Calculate the average charges for each aircraft with different fare conditions.**"
   ]
  },
  {
   "cell_type": "code",
   "execution_count": 17,
   "metadata": {},
   "outputs": [
    {
     "data": {
      "text/plain": [
       "<AxesSubplot:xlabel='aircraft_code', ylabel='avg_amount'>"
      ]
     },
     "execution_count": 17,
     "metadata": {},
     "output_type": "execute_result"
    },
    {
     "data": {
      "image/png": "[encoded data removed]",
      "text/plain": [
       "<Figure size 640x480 with 1 Axes>"
      ]
     },
     "metadata": {},
     "output_type": "display_data"
    }
   ],
   "source": [
    "df = pd.read_sql_query(f\"\"\"SELECT fare_conditions, aircraft_code, AVG(amount) as avg_amount FROM ticket_flights\n",
    "                        JOIN flights \n",
    "                        ON ticket_flights.flight_id=flights.flight_id \n",
    "                        GROUP BY aircraft_code, fare_conditions\"\"\", connection)\n",
    "\n",
    "sns.barplot(data = df, x = 'aircraft_code', y ='avg_amount', hue = 'fare_conditions')"
   ]
  },
  {
   "cell_type": "markdown",
   "metadata": {},
   "source": [
    "# Analyzing occupancy rate"
   ]
  },
  {
   "cell_type": "markdown",
   "metadata": {},
   "source": [
    "**For each aircraft, calculate the total revenue per year and the average revenue per ticket.**"
   ]
  },
  {
   "cell_type": "code",
   "execution_count": 18,
   "metadata": {},
   "outputs": [],
   "source": [
    "pd.set_option('display.float_format', str)"
   ]
  },
  {
   "cell_type": "code",
   "execution_count": 19,
   "metadata": {},
   "outputs": [
    {
     "data": {
      "text/html": [
       "<div>\n",
       "<style scoped>\n",
       "    .dataframe tbody tr th:only-of-type {\n",
       "        vertical-align: middle;\n",
       "    }\n",
       "\n",
       "    .dataframe tbody tr th {\n",
       "        vertical-align: top;\n",
       "    }\n",
       "\n",
       "    .dataframe thead th {\n",
       "        text-align: right;\n",
       "    }\n",
       "</style>\n",
       "<table border=\"1\" class=\"dataframe\">\n",
       "  <thead>\n",
       "    <tr style=\"text-align: right;\">\n",
       "      <th></th>\n",
       "      <th>aircraft_code</th>\n",
       "      <th>total_revenue</th>\n",
       "      <th>ticket_count</th>\n",
       "      <th>avg_revenue_per_ticket</th>\n",
       "    </tr>\n",
       "  </thead>\n",
       "  <tbody>\n",
       "    <tr>\n",
       "      <th>0</th>\n",
       "      <td>319</td>\n",
       "      <td>2706163100</td>\n",
       "      <td>52853</td>\n",
       "      <td>51201</td>\n",
       "    </tr>\n",
       "    <tr>\n",
       "      <th>1</th>\n",
       "      <td>321</td>\n",
       "      <td>1638164100</td>\n",
       "      <td>107129</td>\n",
       "      <td>15291</td>\n",
       "    </tr>\n",
       "    <tr>\n",
       "      <th>2</th>\n",
       "      <td>733</td>\n",
       "      <td>1426552100</td>\n",
       "      <td>86102</td>\n",
       "      <td>16568</td>\n",
       "    </tr>\n",
       "    <tr>\n",
       "      <th>3</th>\n",
       "      <td>763</td>\n",
       "      <td>4371277100</td>\n",
       "      <td>124774</td>\n",
       "      <td>35033</td>\n",
       "    </tr>\n",
       "    <tr>\n",
       "      <th>4</th>\n",
       "      <td>773</td>\n",
       "      <td>3431205500</td>\n",
       "      <td>144376</td>\n",
       "      <td>23765</td>\n",
       "    </tr>\n",
       "    <tr>\n",
       "      <th>5</th>\n",
       "      <td>CN1</td>\n",
       "      <td>96373800</td>\n",
       "      <td>14672</td>\n",
       "      <td>6568</td>\n",
       "    </tr>\n",
       "    <tr>\n",
       "      <th>6</th>\n",
       "      <td>CR2</td>\n",
       "      <td>1982760500</td>\n",
       "      <td>150122</td>\n",
       "      <td>13207</td>\n",
       "    </tr>\n",
       "    <tr>\n",
       "      <th>7</th>\n",
       "      <td>SU9</td>\n",
       "      <td>5114484700</td>\n",
       "      <td>365698</td>\n",
       "      <td>13985</td>\n",
       "    </tr>\n",
       "  </tbody>\n",
       "</table>\n",
       "</div>"
      ],
      "text/plain": [
       "  aircraft_code  total_revenue  ticket_count  avg_revenue_per_ticket\n",
       "0           319     2706163100         52853                   51201\n",
       "1           321     1638164100        107129                   15291\n",
       "2           733     1426552100         86102                   16568\n",
       "3           763     4371277100        124774                   35033\n",
       "4           773     3431205500        144376                   23765\n",
       "5           CN1       96373800         14672                    6568\n",
       "6           CR2     1982760500        150122                   13207\n",
       "7           SU9     5114484700        365698                   13985"
      ]
     },
     "execution_count": 19,
     "metadata": {},
     "output_type": "execute_result"
    }
   ],
   "source": [
    "pd.read_sql_query(f\"\"\"SELECT aircraft_code, total_revenue, ticket_count, total_revenue/ticket_count as avg_revenue_per_ticket\n",
    "                        FROM \n",
    "                        (SELECT aircraft_code, COUNT(*) as ticket_count, SUM(amount) as total_revenue  FROM ticket_flights\n",
    "                        JOIN flights \n",
    "                        ON ticket_flights.flight_id=flights.flight_id \n",
    "                        GROUP BY aircraft_code)\"\"\", connection)"
   ]
  },
  {
   "cell_type": "markdown",
   "metadata": {},
   "source": [
    "**class wise average flight prices**"
   ]
  },
  {
   "cell_type": "code",
   "execution_count": 15,
   "metadata": {},
   "outputs": [
    {
     "data": {
      "image/png": "[encoded data removed]",
      "text/plain": [
       "<Figure size 864x576 with 1 Axes>"
      ]
     },
     "metadata": {},
     "output_type": "display_data"
    }
   ],
   "source": [
    "query = \"\"\"\n",
    "SELECT fare_conditions, aircraft_code, avg(amount) as avg_amount\n",
    "FROM ticket_flights\n",
    "JOIN flights ON ticket_flights.flight_id = flights.flight_id\n",
    "GROUP BY aircraft_code, fare_conditions\n",
    "\"\"\"\n",
    "\n",
    "# Execute the query and fetch data into a DataFrame\n",
    "df = pd.read_sql_query(query, connection)\n",
    "\n",
    "# Save the DataFrame to a CSV file\n",
    "df.to_csv('fare_avg_amount.csv', index=False)\n",
    "\n",
    "# Create the bar plot\n",
    "sns.set_style('whitegrid')\n",
    "fig, axes = plt.subplots(figsize=(12, 8))\n",
    "ax = sns.barplot(x='aircraft_code', y='avg_amount', hue='fare_conditions', data=df, palette='flare')\n",
    "\n",
    "# Annotate bars with their values\n",
    "for p in ax.patches:\n",
    "    ax.annotate(f'{p.get_height():.2f}', (p.get_x() + p.get_width() / 2., p.get_height()),\n",
    "                ha='center', va='center', xytext=(0, 10), textcoords='offset points')\n",
    "\n",
    "plt.title('Class-wise Average Flight Prices')\n",
    "plt.xticks(rotation=45)\n",
    "plt.show()"
   ]
  },
  {
   "cell_type": "markdown",
   "metadata": {},
   "source": [
    "**Calculate the average occupancy per aircraft.**"
   ]
  },
  {
   "cell_type": "code",
   "execution_count": 20,
   "metadata": {},
   "outputs": [
    {
     "data": {
      "text/html": [
       "<div>\n",
       "<style scoped>\n",
       "    .dataframe tbody tr th:only-of-type {\n",
       "        vertical-align: middle;\n",
       "    }\n",
       "\n",
       "    .dataframe tbody tr th {\n",
       "        vertical-align: top;\n",
       "    }\n",
       "\n",
       "    .dataframe thead th {\n",
       "        text-align: right;\n",
       "    }\n",
       "</style>\n",
       "<table border=\"1\" class=\"dataframe\">\n",
       "  <thead>\n",
       "    <tr style=\"text-align: right;\">\n",
       "      <th></th>\n",
       "      <th>aircraft_code</th>\n",
       "      <th>booked_seats</th>\n",
       "      <th>num_seats</th>\n",
       "      <th>occupancy_rate</th>\n",
       "    </tr>\n",
       "  </thead>\n",
       "  <tbody>\n",
       "    <tr>\n",
       "      <th>0</th>\n",
       "      <td>319</td>\n",
       "      <td>53.58318098720292</td>\n",
       "      <td>116</td>\n",
       "      <td>0.46192397402761143</td>\n",
       "    </tr>\n",
       "    <tr>\n",
       "      <th>1</th>\n",
       "      <td>321</td>\n",
       "      <td>88.80923076923077</td>\n",
       "      <td>170</td>\n",
       "      <td>0.5224072398190045</td>\n",
       "    </tr>\n",
       "    <tr>\n",
       "      <th>2</th>\n",
       "      <td>733</td>\n",
       "      <td>80.25546218487395</td>\n",
       "      <td>130</td>\n",
       "      <td>0.617349709114415</td>\n",
       "    </tr>\n",
       "    <tr>\n",
       "      <th>3</th>\n",
       "      <td>763</td>\n",
       "      <td>113.93729372937294</td>\n",
       "      <td>222</td>\n",
       "      <td>0.5132310528350132</td>\n",
       "    </tr>\n",
       "    <tr>\n",
       "      <th>4</th>\n",
       "      <td>773</td>\n",
       "      <td>264.9258064516129</td>\n",
       "      <td>402</td>\n",
       "      <td>0.659019419033863</td>\n",
       "    </tr>\n",
       "    <tr>\n",
       "      <th>5</th>\n",
       "      <td>CN1</td>\n",
       "      <td>6.004431314623338</td>\n",
       "      <td>12</td>\n",
       "      <td>0.5003692762186115</td>\n",
       "    </tr>\n",
       "    <tr>\n",
       "      <th>6</th>\n",
       "      <td>CR2</td>\n",
       "      <td>21.48284690220174</td>\n",
       "      <td>50</td>\n",
       "      <td>0.42965693804403476</td>\n",
       "    </tr>\n",
       "    <tr>\n",
       "      <th>7</th>\n",
       "      <td>SU9</td>\n",
       "      <td>56.81211267605634</td>\n",
       "      <td>97</td>\n",
       "      <td>0.5856918832583128</td>\n",
       "    </tr>\n",
       "  </tbody>\n",
       "</table>\n",
       "</div>"
      ],
      "text/plain": [
       "  aircraft_code       booked_seats  num_seats      occupancy_rate\n",
       "0           319  53.58318098720292        116 0.46192397402761143\n",
       "1           321  88.80923076923077        170  0.5224072398190045\n",
       "2           733  80.25546218487395        130   0.617349709114415\n",
       "3           763 113.93729372937294        222  0.5132310528350132\n",
       "4           773  264.9258064516129        402   0.659019419033863\n",
       "5           CN1  6.004431314623338         12  0.5003692762186115\n",
       "6           CR2  21.48284690220174         50 0.42965693804403476\n",
       "7           SU9  56.81211267605634         97  0.5856918832583128"
      ]
     },
     "execution_count": 20,
     "metadata": {},
     "output_type": "execute_result"
    }
   ],
   "source": [
    "occupancy_rate = pd.read_sql_query(f\"\"\"SELECT a.aircraft_code, AVG(a.seats_count) as booked_seats, b.num_seats, \n",
    "AVG(a.seats_count)/b.num_seats as occupancy_rate\n",
    "                            FROM (\n",
    "                                SELECT aircraft_code, flights.flight_id, COUNT(*) as seats_count\n",
    "                                FROM boarding_passes\n",
    "                                INNER JOIN flights \n",
    "                                ON boarding_passes.flight_id=flights.flight_id\n",
    "                                GROUP BY aircraft_code, flights.flight_id\n",
    "                                ) as a INNER JOIN\n",
    "                                (\n",
    "                                SELECT aircraft_code, COUNT(*) as num_seats FROM seats \n",
    "                                GROUP BY aircraft_code  \n",
    "                                ) as b\n",
    "                                ON a.aircraft_code = b.aircraft_code\n",
    "                            GROUP BY a.aircraft_code\"\"\", connection)\n",
    "occupancy_rate"
   ]
  },
  {
   "cell_type": "markdown",
   "metadata": {},
   "source": [
    "**Calculate by how much the total annual turnover could increase by giving all aircraft a 10% higher occupancy rate.**\n"
   ]
  },
  {
   "cell_type": "code",
   "execution_count": 21,
   "metadata": {},
   "outputs": [
    {
     "data": {
      "text/html": [
       "<div>\n",
       "<style scoped>\n",
       "    .dataframe tbody tr th:only-of-type {\n",
       "        vertical-align: middle;\n",
       "    }\n",
       "\n",
       "    .dataframe tbody tr th {\n",
       "        vertical-align: top;\n",
       "    }\n",
       "\n",
       "    .dataframe thead th {\n",
       "        text-align: right;\n",
       "    }\n",
       "</style>\n",
       "<table border=\"1\" class=\"dataframe\">\n",
       "  <thead>\n",
       "    <tr style=\"text-align: right;\">\n",
       "      <th></th>\n",
       "      <th>aircraft_code</th>\n",
       "      <th>booked_seats</th>\n",
       "      <th>num_seats</th>\n",
       "      <th>occupancy_rate</th>\n",
       "      <th>Inc occupancy rate</th>\n",
       "    </tr>\n",
       "  </thead>\n",
       "  <tbody>\n",
       "    <tr>\n",
       "      <th>0</th>\n",
       "      <td>319</td>\n",
       "      <td>53.58318098720292</td>\n",
       "      <td>116</td>\n",
       "      <td>0.46192397402761143</td>\n",
       "      <td>0.5081163714303726</td>\n",
       "    </tr>\n",
       "    <tr>\n",
       "      <th>1</th>\n",
       "      <td>321</td>\n",
       "      <td>88.80923076923077</td>\n",
       "      <td>170</td>\n",
       "      <td>0.5224072398190045</td>\n",
       "      <td>0.574647963800905</td>\n",
       "    </tr>\n",
       "    <tr>\n",
       "      <th>2</th>\n",
       "      <td>733</td>\n",
       "      <td>80.25546218487395</td>\n",
       "      <td>130</td>\n",
       "      <td>0.617349709114415</td>\n",
       "      <td>0.6790846800258565</td>\n",
       "    </tr>\n",
       "    <tr>\n",
       "      <th>3</th>\n",
       "      <td>763</td>\n",
       "      <td>113.93729372937294</td>\n",
       "      <td>222</td>\n",
       "      <td>0.5132310528350132</td>\n",
       "      <td>0.5645541581185146</td>\n",
       "    </tr>\n",
       "    <tr>\n",
       "      <th>4</th>\n",
       "      <td>773</td>\n",
       "      <td>264.9258064516129</td>\n",
       "      <td>402</td>\n",
       "      <td>0.659019419033863</td>\n",
       "      <td>0.7249213609372492</td>\n",
       "    </tr>\n",
       "    <tr>\n",
       "      <th>5</th>\n",
       "      <td>CN1</td>\n",
       "      <td>6.004431314623338</td>\n",
       "      <td>12</td>\n",
       "      <td>0.5003692762186115</td>\n",
       "      <td>0.5504062038404727</td>\n",
       "    </tr>\n",
       "    <tr>\n",
       "      <th>6</th>\n",
       "      <td>CR2</td>\n",
       "      <td>21.48284690220174</td>\n",
       "      <td>50</td>\n",
       "      <td>0.42965693804403476</td>\n",
       "      <td>0.4726226318484382</td>\n",
       "    </tr>\n",
       "    <tr>\n",
       "      <th>7</th>\n",
       "      <td>SU9</td>\n",
       "      <td>56.81211267605634</td>\n",
       "      <td>97</td>\n",
       "      <td>0.5856918832583128</td>\n",
       "      <td>0.644261071584144</td>\n",
       "    </tr>\n",
       "  </tbody>\n",
       "</table>\n",
       "</div>"
      ],
      "text/plain": [
       "  aircraft_code       booked_seats  num_seats      occupancy_rate  \\\n",
       "0           319  53.58318098720292        116 0.46192397402761143   \n",
       "1           321  88.80923076923077        170  0.5224072398190045   \n",
       "2           733  80.25546218487395        130   0.617349709114415   \n",
       "3           763 113.93729372937294        222  0.5132310528350132   \n",
       "4           773  264.9258064516129        402   0.659019419033863   \n",
       "5           CN1  6.004431314623338         12  0.5003692762186115   \n",
       "6           CR2  21.48284690220174         50 0.42965693804403476   \n",
       "7           SU9  56.81211267605634         97  0.5856918832583128   \n",
       "\n",
       "   Inc occupancy rate  \n",
       "0  0.5081163714303726  \n",
       "1   0.574647963800905  \n",
       "2  0.6790846800258565  \n",
       "3  0.5645541581185146  \n",
       "4  0.7249213609372492  \n",
       "5  0.5504062038404727  \n",
       "6  0.4726226318484382  \n",
       "7   0.644261071584144  "
      ]
     },
     "execution_count": 21,
     "metadata": {},
     "output_type": "execute_result"
    }
   ],
   "source": [
    "occupancy_rate['Inc occupancy rate'] = occupancy_rate['occupancy_rate'] + occupancy_rate['occupancy_rate']*0.1\n",
    "occupancy_rate"
   ]
  },
  {
   "cell_type": "code",
   "execution_count": 22,
   "metadata": {
    "scrolled": true
   },
   "outputs": [
    {
     "data": {
      "text/html": [
       "<div>\n",
       "<style scoped>\n",
       "    .dataframe tbody tr th:only-of-type {\n",
       "        vertical-align: middle;\n",
       "    }\n",
       "\n",
       "    .dataframe tbody tr th {\n",
       "        vertical-align: top;\n",
       "    }\n",
       "\n",
       "    .dataframe thead th {\n",
       "        text-align: right;\n",
       "    }\n",
       "</style>\n",
       "<table border=\"1\" class=\"dataframe\">\n",
       "  <thead>\n",
       "    <tr style=\"text-align: right;\">\n",
       "      <th></th>\n",
       "      <th>aircraft_code</th>\n",
       "      <th>booked_seats</th>\n",
       "      <th>num_seats</th>\n",
       "      <th>occupancy_rate</th>\n",
       "      <th>Inc occupancy rate</th>\n",
       "      <th>Inc Total Annual Turnover</th>\n",
       "    </tr>\n",
       "  </thead>\n",
       "  <tbody>\n",
       "    <tr>\n",
       "      <th>0</th>\n",
       "      <td>319</td>\n",
       "      <td>53.58318098720292</td>\n",
       "      <td>116</td>\n",
       "      <td>0.46192397402761143</td>\n",
       "      <td>0.5081163714303726</td>\n",
       "      <td>2976779410.0</td>\n",
       "    </tr>\n",
       "    <tr>\n",
       "      <th>1</th>\n",
       "      <td>321</td>\n",
       "      <td>88.80923076923077</td>\n",
       "      <td>170</td>\n",
       "      <td>0.5224072398190045</td>\n",
       "      <td>0.574647963800905</td>\n",
       "      <td>1801980510.0</td>\n",
       "    </tr>\n",
       "    <tr>\n",
       "      <th>2</th>\n",
       "      <td>733</td>\n",
       "      <td>80.25546218487395</td>\n",
       "      <td>130</td>\n",
       "      <td>0.617349709114415</td>\n",
       "      <td>0.6790846800258565</td>\n",
       "      <td>1569207310.0000002</td>\n",
       "    </tr>\n",
       "    <tr>\n",
       "      <th>3</th>\n",
       "      <td>763</td>\n",
       "      <td>113.93729372937294</td>\n",
       "      <td>222</td>\n",
       "      <td>0.5132310528350132</td>\n",
       "      <td>0.5645541581185146</td>\n",
       "      <td>4808404810.0</td>\n",
       "    </tr>\n",
       "    <tr>\n",
       "      <th>4</th>\n",
       "      <td>773</td>\n",
       "      <td>264.9258064516129</td>\n",
       "      <td>402</td>\n",
       "      <td>0.659019419033863</td>\n",
       "      <td>0.7249213609372492</td>\n",
       "      <td>3774326050.0</td>\n",
       "    </tr>\n",
       "    <tr>\n",
       "      <th>5</th>\n",
       "      <td>CN1</td>\n",
       "      <td>6.004431314623338</td>\n",
       "      <td>12</td>\n",
       "      <td>0.5003692762186115</td>\n",
       "      <td>0.5504062038404727</td>\n",
       "      <td>106011180.00000001</td>\n",
       "    </tr>\n",
       "    <tr>\n",
       "      <th>6</th>\n",
       "      <td>CR2</td>\n",
       "      <td>21.48284690220174</td>\n",
       "      <td>50</td>\n",
       "      <td>0.42965693804403476</td>\n",
       "      <td>0.4726226318484382</td>\n",
       "      <td>2181036550.0</td>\n",
       "    </tr>\n",
       "    <tr>\n",
       "      <th>7</th>\n",
       "      <td>SU9</td>\n",
       "      <td>56.81211267605634</td>\n",
       "      <td>97</td>\n",
       "      <td>0.5856918832583128</td>\n",
       "      <td>0.644261071584144</td>\n",
       "      <td>5625933169.999999</td>\n",
       "    </tr>\n",
       "  </tbody>\n",
       "</table>\n",
       "</div>"
      ],
      "text/plain": [
       "  aircraft_code       booked_seats  num_seats      occupancy_rate  \\\n",
       "0           319  53.58318098720292        116 0.46192397402761143   \n",
       "1           321  88.80923076923077        170  0.5224072398190045   \n",
       "2           733  80.25546218487395        130   0.617349709114415   \n",
       "3           763 113.93729372937294        222  0.5132310528350132   \n",
       "4           773  264.9258064516129        402   0.659019419033863   \n",
       "5           CN1  6.004431314623338         12  0.5003692762186115   \n",
       "6           CR2  21.48284690220174         50 0.42965693804403476   \n",
       "7           SU9  56.81211267605634         97  0.5856918832583128   \n",
       "\n",
       "   Inc occupancy rate  Inc Total Annual Turnover  \n",
       "0  0.5081163714303726               2976779410.0  \n",
       "1   0.574647963800905               1801980510.0  \n",
       "2  0.6790846800258565         1569207310.0000002  \n",
       "3  0.5645541581185146               4808404810.0  \n",
       "4  0.7249213609372492               3774326050.0  \n",
       "5  0.5504062038404727         106011180.00000001  \n",
       "6  0.4726226318484382               2181036550.0  \n",
       "7   0.644261071584144          5625933169.999999  "
      ]
     },
     "execution_count": 22,
     "metadata": {},
     "output_type": "execute_result"
    }
   ],
   "source": [
    "total_revenue = pd.read_sql_query(\"\"\"SELECT aircraft_code, SUM(amount) as total_revenue  FROM ticket_flights\n",
    "                        JOIN flights \n",
    "                        ON ticket_flights.flight_id=flights.flight_id \n",
    "                        GROUP BY aircraft_code\"\"\", connection)\n",
    "\n",
    "occupancy_rate['Inc Total Annual Turnover'] = (total_revenue['total_revenue']/occupancy_rate['occupancy_rate'])*occupancy_rate['Inc occupancy rate']\n",
    "occupancy_rate"
   ]
  },
  {
   "cell_type": "markdown",
   "metadata": {},
   "source": [
    "# Conclusion:"
   ]
  },
  {
   "cell_type": "markdown",
   "metadata": {},
   "source": [
    "\n",
    "**To sum up, examining revenue data , for example, total income each year, average income per ticket, and average inhabitance per airplane is basic for carriers looking to augment profitability. Airlines can track down regions for development and change their valuing and route designing because of evaluating these pointers. A more noteworthy inhabitance rate is one significant component that can upgrade benefit since it permits airline to boost income while limiting expenses related with empty seats. The airline should modify the cost for every airplane as the lower cost and high cost is additionally the element that individuals are not accepting tickets from those airplanes. They should conclude the sensible value as indicated by the condition and facility of the airplane and it should not be exceptionally low or high.**"
   ]
  },
  {
   "cell_type": "code",
   "execution_count": null,
   "metadata": {},
   "outputs": [],
   "source": []
  }
 ],
 "metadata": {
  "kernelspec": {
   "display_name": "Python 3",
   "language": "python",
   "name": "python3"
  },
  "language_info": {
   "codemirror_mode": {
    "name": "ipython",
    "version": 3
   },
   "file_extension": ".py",
   "mimetype": "text/x-python",
   "name": "python",
   "nbconvert_exporter": "python",
   "pygments_lexer": "ipython3",
   "version": "3.8.5"
  }
 },
 "nbformat": 4,
 "nbformat_minor": 5
}
